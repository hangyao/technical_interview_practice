{
 "cells": [
  {
   "cell_type": "markdown",
   "metadata": {},
   "source": [
    "# Question 1: \n",
    "\n",
    "Given two strings `s` and `t`, determine whether some anagram of `t` is a substring of `s`. For example: if `s = “udacity”` and `t = “ad”`, then the function returns `True`. Your function definition should look like: `question1(s, t)`, and return a boolean `True` or `False`."
   ]
  },
  {
   "cell_type": "code",
   "execution_count": 201,
   "metadata": {
    "collapsed": false
   },
   "outputs": [
    {
     "name": "stdout",
     "output_type": "stream",
     "text": [
      "[False, True, True, False, False, False, False]\n",
      "True\n",
      "[False, False, False, False, False, False, False]\n",
      "False\n",
      "[False, False, False, True, True, False, True]\n",
      "False\n"
     ]
    }
   ],
   "source": [
    "# Question 1\n",
    "def question1(s, t):\n",
    "    isFound = [False] * len(t)\n",
    "    FoundOnce = [False] * len(s)\n",
    "    for i, letter_t in enumerate(t):\n",
    "        for j, letter_s in enumerate(s):\n",
    "            if letter_t == letter_s and FoundOnce[j] == False:\n",
    "                isFound[i] = True\n",
    "                FoundOnce[j] = True\n",
    "                break\n",
    "    if any(FoundOnce):\n",
    "        return all(isFound) and all(FoundOnce[FoundOnce.index(True):(FoundOnce.index(True)+len(t))])\n",
    "    else:\n",
    "        return False\n",
    "\n",
    "# Test Case 1\n",
    "s = 'udacity'\n",
    "t = 'ad'\n",
    "print question1(s, t)\n",
    "# Test Case 2\n",
    "s = 'udacity'\n",
    "t = ''\n",
    "print question1(s, t)\n",
    "# Test Case 3\n",
    "s = 'udacity'\n",
    "t = 'iyc'\n",
    "print question1(s, t)"
   ]
  },
  {
   "cell_type": "markdown",
   "metadata": {},
   "source": [
    "# Question 2: \n",
    "\n",
    "Given a string `a`, find the longest palindromic substring contained in `a`. Your function definition should look like `question2(a)`, and return a string."
   ]
  },
  {
   "cell_type": "code",
   "execution_count": 186,
   "metadata": {
    "collapsed": false
   },
   "outputs": [
    {
     "name": "stdout",
     "output_type": "stream",
     "text": [
      "racecar\n",
      "civic\n",
      "None\n",
      "None\n"
     ]
    }
   ],
   "source": [
    "# Question 2\n",
    "def question2(a):\n",
    "    if a:\n",
    "        palindrome = a[0]\n",
    "        for i in range(len(a)):\n",
    "            for j in range(0, i):\n",
    "                substring = a[j:i + 1]\n",
    "                if substring == substring[::-1]:\n",
    "                    if len(substring) > len(palindrome):\n",
    "                        palindrome = substring\n",
    "        return palindrome\n",
    "    return None\n",
    "\n",
    "# Test Case 1\n",
    "print question2('racecarcivicmadam')\n",
    "# Test Case 2\n",
    "print question2('civicmadamAAAAA')\n",
    "# Test Case 3\n",
    "print question2('')\n",
    "# Test Case 4\n",
    "print question2(None)"
   ]
  },
  {
   "cell_type": "markdown",
   "metadata": {},
   "source": [
    "# Question 3: \n",
    "\n",
    "Given an undirected graph G, find the minimum spanning tree within G. A minimum spanning tree connects all vertices in a graph with the smallest possible total weight of edges. Your function should take in and return an adjacency list structured like this: \n",
    "\n",
    "```python\n",
    "{'A':[('B',2)],\n",
    " 'B':[('A',2),('C',5)],\n",
    " 'C':[('B',5)]}```\n",
    "\n",
    "Vertices are represented as unique strings. The function definition should be ` question3(G)`"
   ]
  },
  {
   "cell_type": "code",
   "execution_count": 153,
   "metadata": {
    "collapsed": false
   },
   "outputs": [
    {
     "name": "stdout",
     "output_type": "stream",
     "text": [
      "{'A': [('B', 2)], 'B': [('C', 5)]}\n",
      "{'A': [('D', 5), ('B', 7)], 'B': [('E', 7)], 'E': [('C', 5), ('G', 9)], 'D': [('F', 6)]}\n",
      "None\n",
      "None\n"
     ]
    }
   ],
   "source": [
    "# Question 3\n",
    "from heapq import heappop, heappush\n",
    "\n",
    "def question3(G):\n",
    "    V, T = [], {} \n",
    "    s = 'A'\n",
    "    Q = [(0, None, s)]\n",
    "    if G:\n",
    "        while Q:\n",
    "            w, p, u = heappop(Q)\n",
    "            if u in V: continue \n",
    "            V.append(u)\n",
    "\n",
    "            if p is None :\n",
    "                pass\n",
    "            elif p in T:\n",
    "                T[p].append((u, w))\n",
    "            else:\n",
    "                T[p]=[(u, w)]\n",
    "\n",
    "            for v, w in G[u]:\n",
    "                heappush(Q, (w, u, v))\n",
    "        return T\n",
    "    else:\n",
    "        return None\n",
    "\n",
    "# Test Case 1\n",
    "G = {'A':[('B',2)],'B':[('A',2),('C',5)],'C':[('B',5)]}\n",
    "print question3(G)\n",
    "\n",
    "# Test Case 2\n",
    "G = {'A': [('B', 7), ('D', 5)],\n",
    "'B':[('A', 7), ('D', 9), ('C', 8), ('E', 7)],\n",
    "'C': [('B', 8), ('E', 5)],\n",
    "'D': [('A', 5), ('B', 9), ('E', 15), ('F', 6)],\n",
    "'E': [('B', 7), ('C', 5), ('D', 15), ('F', 8), ('G', 9)],\n",
    "'F': [('D', 6), ('E', 8), ('G', 11)]  ,\n",
    "'G': [('E', 9), ('F', 11)]}\n",
    "print question3(G)\n",
    "\n",
    "# Test Case 3\n",
    "print question3('')\n",
    "\n",
    "# Test Case 4\n",
    "print question3(None)"
   ]
  },
  {
   "cell_type": "markdown",
   "metadata": {},
   "source": [
    "# Question 4: \n",
    "\n",
    "Find the least common ancestor between two nodes on a binary search tree. The least common ancestor is the farthest node from the root that is an ancestor of both nodes. For example, the root is a common ancestor of all nodes on the tree, but if both nodes are descendents of the root's left child, then that left child might be the lowest common ancestor. You can assume that both nodes are in the tree, and the tree itself adheres to all BST properties. The function definition should look like `question4(T, r, n1, n2)`, where `T` is the tree represented as a matrix, where the index of the list is equal to the integer stored in that node and a `1` represents a child node, `r` is a non-negative integer representing the root, and `n1` and `n2` are non-negative integers representing the two nodes in no particular order. For example, one test case might be \n",
    "\n",
    "```python\n",
    "question4([[0,1,0,0,0],\n",
    "           [0,0,0,0,0],\n",
    "           [0,0,0,0,0],\n",
    "           [1,0,0,0,1],\n",
    "           [0,0,0,0,0]],\n",
    "          3,\n",
    "          1,\n",
    "          4)```\n",
    "\n",
    "and the answer would be `3`."
   ]
  },
  {
   "cell_type": "code",
   "execution_count": 159,
   "metadata": {
    "collapsed": false
   },
   "outputs": [
    {
     "name": "stdout",
     "output_type": "stream",
     "text": [
      "3\n",
      "2\n",
      "Error: Node 4 is not under Root 1\n",
      "None\n",
      "None\n"
     ]
    }
   ],
   "source": [
    "# Question 4\n",
    "def question4(T, r, n1, n2):\n",
    "    if T:\n",
    "        path1 = path_from_root(T, r, n1)\n",
    "        path2 = path_from_root(T, r, n2)\n",
    "        AncList = []\n",
    "        if path1 and path2:\n",
    "            for i in path1:\n",
    "                AncList.append(path2.count(i))\n",
    "            return path1[AncList.index(1)]\n",
    "        else: \n",
    "            return None\n",
    "    else:\n",
    "        return None\n",
    "    \n",
    "def path_from_root(T, r, n):\n",
    "    path = [n]\n",
    "    x = 0\n",
    "    while n != r and x <= len(T):\n",
    "        for i, parent in enumerate(T):\n",
    "            if parent[n] == 1:\n",
    "                path.append(i)\n",
    "                n = i\n",
    "                break\n",
    "        x += 1\n",
    "    if path.count(r) == 0:\n",
    "        print 'Error: Node', path[0], 'is not under Root', r\n",
    "        return None\n",
    "    else:\n",
    "        return path\n",
    "\n",
    "# Test Case 1\n",
    "T = [[0,1,0,0,0],[0,0,0,0,0],[0,0,0,0,0],[1,0,0,0,1],[0,0,0,0,0]]\n",
    "print question4(T,3,1,4)\n",
    "\n",
    "# Test Case 2\n",
    "T1 = [[0,0,0,0,0,0,0,0,0],[0,0,0,0,0,1,0,0,1],[0,1,0,1,0,0,0,0,0],\n",
    "     [1,0,0,0,0,0,1,0,0],[0,0,0,0,0,0,0,0,0],[0,0,0,0,0,0,0,0,0],\n",
    "     [0,0,0,0,1,0,0,0,0],[0,0,0,0,0,0,0,0,0],[0,0,0,0,0,0,0,1,0]]\n",
    "print question4(T1,2,5,0)\n",
    "\n",
    "# Test Case 3\n",
    "print question4(T1,1,4,5)\n",
    "\n",
    "# Test Case 4\n",
    "print question4('',1,4,5)"
   ]
  },
  {
   "cell_type": "markdown",
   "metadata": {},
   "source": [
    "# Question 5: \n",
    "\n",
    "Find the element in a singly linked list that's `m` elements from the end. For example, if a linked list has 5 elements, the 3rd element from the end is the 3rd element. The function definition should look like `question5(ll, m)`, where `ll` is the first node of a linked list and `m` is the \"mth number from the end\". You should copy/paste the `Node` class below to use as a representation of a node in the linked list. Return the value of the node at that position.\n",
    "\n",
    "```python\n",
    "class Node(object):\n",
    "  def __init__(self, data):\n",
    "    self.data = data\n",
    "    self.next = None```"
   ]
  },
  {
   "cell_type": "code",
   "execution_count": 183,
   "metadata": {
    "collapsed": false
   },
   "outputs": [
    {
     "name": "stdout",
     "output_type": "stream",
     "text": [
      "3\n",
      "None\n",
      "None\n"
     ]
    }
   ],
   "source": [
    "# Question 5\n",
    "class Node(object):\n",
    "    def __init__(self, data):\n",
    "        self.data = data\n",
    "        self.next = None\n",
    "\n",
    "class LinkedList(object):\n",
    "    def __init__(self, head=None):\n",
    "        self.head = head\n",
    "        \n",
    "    def append(self, new_element):\n",
    "        current = self.head\n",
    "        if self.head:\n",
    "            while current.next:\n",
    "                current = current.next\n",
    "            current.next = new_element\n",
    "        else:\n",
    "            self.head = new_element\n",
    "        \n",
    "def question5(ll, m):\n",
    "    current = ll\n",
    "    index = 1\n",
    "    while current:\n",
    "        current = current.next\n",
    "        index += 1\n",
    "    index = index - m\n",
    "    counter = 1\n",
    "    current = ll\n",
    "    while counter < index:\n",
    "        current = current.next\n",
    "        counter += 1\n",
    "    if current and index > 0:\n",
    "        return current.data\n",
    "    else:\n",
    "        return None\n",
    "\n",
    "\n",
    "e1 = Node(1)\n",
    "e2 = Node(2)\n",
    "e3 = Node(3)\n",
    "e4 = Node(4)\n",
    "e5 = Node(5)\n",
    "ll = LinkedList(e1)\n",
    "ll.append(e2)\n",
    "ll.append(e3)\n",
    "ll.append(e4)\n",
    "ll.append(e5)\n",
    "\n",
    "# Test Case 1\n",
    "print question5(e1, 3)\n",
    "\n",
    "# Test Case 2\n",
    "e6 = Node(6)\n",
    "ll.append(e6)\n",
    "print question5(e1, 0)\n",
    "\n",
    "# Test Case 3\n",
    "print question5(e1, 7)"
   ]
  }
 ],
 "metadata": {
  "kernelspec": {
   "display_name": "Python 2",
   "language": "python",
   "name": "python2"
  },
  "language_info": {
   "codemirror_mode": {
    "name": "ipython",
    "version": 2
   },
   "file_extension": ".py",
   "mimetype": "text/x-python",
   "name": "python",
   "nbconvert_exporter": "python",
   "pygments_lexer": "ipython2",
   "version": "2.7.12"
  }
 },
 "nbformat": 4,
 "nbformat_minor": 0
}
